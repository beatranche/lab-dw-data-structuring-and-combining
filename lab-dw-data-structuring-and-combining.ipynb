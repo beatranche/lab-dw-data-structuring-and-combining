{
 "cells": [
  {
   "cell_type": "markdown",
   "id": "25d7736c-ba17-4aff-b6bb-66eba20fbf4e",
   "metadata": {
    "id": "25d7736c-ba17-4aff-b6bb-66eba20fbf4e"
   },
   "source": [
    "# Lab | Data Structuring and Combining Data"
   ]
  },
  {
   "cell_type": "markdown",
   "id": "a2cdfc70-44c8-478c-81e7-2bc43fdf4986",
   "metadata": {
    "id": "a2cdfc70-44c8-478c-81e7-2bc43fdf4986"
   },
   "source": [
    "## Challenge 1: Combining & Cleaning Data\n",
    "\n",
    "In this challenge, we will be working with the customer data from an insurance company, as we did in the two previous labs. The data can be found here:\n",
    "- https://raw.githubusercontent.com/data-bootcamp-v4/data/main/file1.csv\n",
    "\n",
    "But this time, we got new data, which can be found in the following 2 CSV files located at the links below.\n",
    "\n",
    "- https://raw.githubusercontent.com/data-bootcamp-v4/data/main/file2.csv\n",
    "- https://raw.githubusercontent.com/data-bootcamp-v4/data/main/file3.csv\n",
    "\n",
    "Note that you'll need to clean and format the new data.\n",
    "\n",
    "Observation:\n",
    "- One option is to first combine the three datasets and then apply the cleaning function to the new combined dataset\n",
    "- Another option would be to read the clean file you saved in the previous lab, and just clean the two new files and concatenate the three clean datasets"
   ]
  },
  {
   "cell_type": "code",
   "execution_count": 489,
   "id": "492d06e3-92c7-4105-ac72-536db98d3244",
   "metadata": {
    "id": "492d06e3-92c7-4105-ac72-536db98d3244"
   },
   "outputs": [],
   "source": [
    "import pandas as pd\n",
    "\n",
    "df_file1 = pd.read_csv('https://raw.githubusercontent.com/data-bootcamp-v4/data/main/file1.csv')\n",
    "df_file2 = pd.read_csv('https://raw.githubusercontent.com/data-bootcamp-v4/data/main/file2.csv')\n",
    "df_file3 = pd.read_csv('https://raw.githubusercontent.com/data-bootcamp-v4/data/main/file3.csv')\n",
    "\n"
   ]
  },
  {
   "cell_type": "code",
   "execution_count": 490,
   "id": "a3658ce2",
   "metadata": {},
   "outputs": [
    {
     "data": {
      "text/plain": [
       "(4008, 11)"
      ]
     },
     "execution_count": 490,
     "metadata": {},
     "output_type": "execute_result"
    }
   ],
   "source": [
    "# check the number of rows and columns\n",
    "\n",
    "df_file1.shape"
   ]
  },
  {
   "cell_type": "code",
   "execution_count": 491,
   "id": "fcd24ed7",
   "metadata": {},
   "outputs": [
    {
     "data": {
      "text/plain": [
       "Index(['Customer', 'ST', 'GENDER', 'Education', 'Customer Lifetime Value',\n",
       "       'Income', 'Monthly Premium Auto', 'Number of Open Complaints',\n",
       "       'Policy Type', 'Vehicle Class', 'Total Claim Amount'],\n",
       "      dtype='object')"
      ]
     },
     "execution_count": 491,
     "metadata": {},
     "output_type": "execute_result"
    }
   ],
   "source": [
    "df_file1.columns"
   ]
  },
  {
   "cell_type": "code",
   "execution_count": 492,
   "id": "b2f22b46",
   "metadata": {},
   "outputs": [
    {
     "data": {
      "text/plain": [
       "(996, 11)"
      ]
     },
     "execution_count": 492,
     "metadata": {},
     "output_type": "execute_result"
    }
   ],
   "source": [
    "df_file2.shape"
   ]
  },
  {
   "cell_type": "code",
   "execution_count": 493,
   "id": "cf906ddd",
   "metadata": {},
   "outputs": [
    {
     "data": {
      "text/plain": [
       "Index(['Customer', 'ST', 'GENDER', 'Education', 'Customer Lifetime Value',\n",
       "       'Income', 'Monthly Premium Auto', 'Number of Open Complaints',\n",
       "       'Total Claim Amount', 'Policy Type', 'Vehicle Class'],\n",
       "      dtype='object')"
      ]
     },
     "execution_count": 493,
     "metadata": {},
     "output_type": "execute_result"
    }
   ],
   "source": [
    "df_file2.columns"
   ]
  },
  {
   "cell_type": "code",
   "execution_count": 494,
   "id": "6bd765d5",
   "metadata": {},
   "outputs": [
    {
     "data": {
      "text/plain": [
       "(7070, 11)"
      ]
     },
     "execution_count": 494,
     "metadata": {},
     "output_type": "execute_result"
    }
   ],
   "source": [
    "df_file3.shape"
   ]
  },
  {
   "cell_type": "code",
   "execution_count": 495,
   "id": "9ea0c48c",
   "metadata": {},
   "outputs": [
    {
     "data": {
      "text/plain": [
       "Index(['Customer', 'State', 'Customer Lifetime Value', 'Education', 'Gender',\n",
       "       'Income', 'Monthly Premium Auto', 'Number of Open Complaints',\n",
       "       'Policy Type', 'Total Claim Amount', 'Vehicle Class'],\n",
       "      dtype='object')"
      ]
     },
     "execution_count": 495,
     "metadata": {},
     "output_type": "execute_result"
    }
   ],
   "source": [
    "df_file3.columns"
   ]
  },
  {
   "cell_type": "markdown",
   "id": "4b137325",
   "metadata": {},
   "source": [
    "All datasets have the same number of columns but they are named different between each other. \n",
    "We have to fix the names of the columns"
   ]
  },
  {
   "cell_type": "code",
   "execution_count": 496,
   "id": "458d8729",
   "metadata": {},
   "outputs": [
    {
     "data": {
      "text/plain": [
       "Index(['customer', 'state', 'gender', 'education', 'customer_lifetime_value',\n",
       "       'income', 'monthly_premium_auto', 'number_of_open_complaints',\n",
       "       'policy_type', 'vehicle_class', 'total_claim_amount'],\n",
       "      dtype='object')"
      ]
     },
     "execution_count": 496,
     "metadata": {},
     "output_type": "execute_result"
    }
   ],
   "source": [
    "\n",
    "df_file1.columns = df_file1.columns.str.lower().str.replace(' ', '_')\n",
    "df_file1 = df_file1.rename(columns={'st': 'state'})\n",
    "df_file1.columns"
   ]
  },
  {
   "cell_type": "code",
   "execution_count": 497,
   "id": "5ed69081",
   "metadata": {},
   "outputs": [
    {
     "data": {
      "text/plain": [
       "Index(['customer', 'state', 'gender', 'education', 'customer_lifetime_value',\n",
       "       'income', 'monthly_premium_auto', 'number_of_open_complaints',\n",
       "       'total_claim_amount', 'policy_type', 'vehicle_class'],\n",
       "      dtype='object')"
      ]
     },
     "execution_count": 497,
     "metadata": {},
     "output_type": "execute_result"
    }
   ],
   "source": [
    "df_file2.columns = df_file2.columns.str.lower().str.replace(' ', '_')\n",
    "df_file2 = df_file2.rename(columns={'st': 'state'})\n",
    "df_file2.columns"
   ]
  },
  {
   "cell_type": "code",
   "execution_count": 498,
   "id": "fd911b4b",
   "metadata": {},
   "outputs": [
    {
     "data": {
      "text/plain": [
       "Index(['customer', 'state', 'customer_lifetime_value', 'education', 'gender',\n",
       "       'income', 'monthly_premium_auto', 'number_of_open_complaints',\n",
       "       'policy_type', 'total_claim_amount', 'vehicle_class'],\n",
       "      dtype='object')"
      ]
     },
     "execution_count": 498,
     "metadata": {},
     "output_type": "execute_result"
    }
   ],
   "source": [
    "df_file3.columns = df_file3.columns.str.lower().str.replace(' ', '_')\n",
    "df_file3.columns"
   ]
  },
  {
   "cell_type": "code",
   "execution_count": 499,
   "id": "b30103ea",
   "metadata": {},
   "outputs": [
    {
     "data": {
      "text/plain": [
       "Index(['customer', 'state', 'gender', 'education', 'customer_lifetime_value',\n",
       "       'income', 'monthly_premium_auto', 'number_of_open_complaints',\n",
       "       'policy_type', 'vehicle_class', 'total_claim_amount'],\n",
       "      dtype='object')"
      ]
     },
     "execution_count": 499,
     "metadata": {},
     "output_type": "execute_result"
    }
   ],
   "source": [
    "# Concatenate the dataframes vertically \n",
    "customer_data = pd.concat([df_file1, df_file2, df_file3], axis=0)\n",
    "customer_data.columns"
   ]
  },
  {
   "cell_type": "code",
   "execution_count": 500,
   "id": "2c4ac3e6",
   "metadata": {},
   "outputs": [
    {
     "data": {
      "text/plain": [
       "(12074, 11)"
      ]
     },
     "execution_count": 500,
     "metadata": {},
     "output_type": "execute_result"
    }
   ],
   "source": [
    "customer_data.shape"
   ]
  },
  {
   "cell_type": "code",
   "execution_count": 501,
   "id": "8fe6905f",
   "metadata": {},
   "outputs": [
    {
     "data": {
      "text/plain": [
       "customer  state       gender  education             customer_lifetime_value  income   monthly_premium_auto  number_of_open_complaints  policy_type     vehicle_class  total_claim_amount\n",
       "MY31220   California  F       College               899704.02%               54230.0  112.0                 1/0/00                     Personal Auto   Two-Door Car   537.600000            2\n",
       "CW49887   California  F       Master                462680.11%               79487.0  114.0                 1/0/00                     Special Auto    SUV            547.200000            2\n",
       "GS98873   Arizona     F       Bachelor              323912.47%               16061.0  88.0                  1/0/00                     Personal Auto   Four-Door Car  633.600000            2\n",
       "RK45396   California  M       Bachelor              5380.316469              0.0      73.0                  0                          Corporate Auto  Four-Door Car  350.400000            1\n",
       "RJ79502   AZ          M       Bachelor              850128.00%               98003.0  107.0                 1/0/00                     Personal Auto   SUV            449.408637            1\n",
       "                                                                                                                                                                                           ..\n",
       "IS12075   California  F       High School or Below  5100.088201              0.0      71.0                  1                          Corporate Auto  Four-Door Car  653.726919            1\n",
       "IR78670   California  M       Bachelor              8719.125849              0.0      116.0                 1                          Personal Auto   Four-Door Car  556.800000            1\n",
       "IR74017   Oregon      F       College               5320.614976              32116.0  132.0                 0                          Personal Auto   SUV            277.351026            1\n",
       "IR73545   Oregon      M       College               13727.79972              0.0      126.0                 0                          Personal Auto   SUV            604.800000            1\n",
       "ZZ97035   California  M       College               2071494.04%              0.0      203.0                 1/0/00                     Corporate Auto  Luxury Car     2027.724442           1\n",
       "Name: count, Length: 9007, dtype: int64"
      ]
     },
     "execution_count": 501,
     "metadata": {},
     "output_type": "execute_result"
    }
   ],
   "source": [
    "# check the values in the dataframe\n",
    "\n",
    "customer_data.value_counts()"
   ]
  },
  {
   "cell_type": "code",
   "execution_count": 502,
   "id": "b5152313",
   "metadata": {},
   "outputs": [
    {
     "data": {
      "text/plain": [
       "array([nan, 'F', 'M', 'Femal', 'Male', 'female'], dtype=object)"
      ]
     },
     "execution_count": 502,
     "metadata": {},
     "output_type": "execute_result"
    }
   ],
   "source": [
    "# Standarize values in categorical columns\n",
    "\n",
    "customer_data['gender'].unique()"
   ]
  },
  {
   "cell_type": "code",
   "execution_count": 503,
   "id": "6fb26332",
   "metadata": {},
   "outputs": [
    {
     "data": {
      "text/plain": [
       "array([nan, 'F', 'M'], dtype=object)"
      ]
     },
     "execution_count": 503,
     "metadata": {},
     "output_type": "execute_result"
    }
   ],
   "source": [
    "customer_data['gender'] = customer_data['gender'].map({'Femal': 'F', 'Male': 'M', 'female': 'F'})\n",
    "customer_data.gender.unique()"
   ]
  },
  {
   "cell_type": "code",
   "execution_count": 504,
   "id": "e1b9ee6a",
   "metadata": {},
   "outputs": [
    {
     "data": {
      "text/plain": [
       "array(['Washington', 'Arizona', 'Nevada', 'California', 'Oregon', 'Cali',\n",
       "       'AZ', 'WA', nan], dtype=object)"
      ]
     },
     "execution_count": 504,
     "metadata": {},
     "output_type": "execute_result"
    }
   ],
   "source": [
    "customer_data.state.unique()"
   ]
  },
  {
   "cell_type": "code",
   "execution_count": 505,
   "id": "0bb5fd63",
   "metadata": {},
   "outputs": [
    {
     "data": {
      "text/plain": [
       "array([nan, 'California', 'Arizona', 'Washington'], dtype=object)"
      ]
     },
     "execution_count": 505,
     "metadata": {},
     "output_type": "execute_result"
    }
   ],
   "source": [
    "customer_data['state'] = customer_data['state'].map({'AZ': 'Arizona', 'Cali': 'California', 'WA': 'Washington'})\n",
    "customer_data['state'].unique()"
   ]
  },
  {
   "cell_type": "code",
   "execution_count": 506,
   "id": "fd22de19",
   "metadata": {},
   "outputs": [
    {
     "data": {
      "text/plain": [
       "array(['Master', 'Bachelor', 'High School or Below', 'College',\n",
       "       'Bachelors', 'Doctor', nan], dtype=object)"
      ]
     },
     "execution_count": 506,
     "metadata": {},
     "output_type": "execute_result"
    }
   ],
   "source": [
    "customer_data.education.unique()"
   ]
  },
  {
   "cell_type": "code",
   "execution_count": 507,
   "id": "75548f7c",
   "metadata": {},
   "outputs": [
    {
     "data": {
      "text/plain": [
       "array(['Master', 'Bachelor', 'High School or Below', 'College', 'Doctor',\n",
       "       nan], dtype=object)"
      ]
     },
     "execution_count": 507,
     "metadata": {},
     "output_type": "execute_result"
    }
   ],
   "source": [
    "customer_data['education'] = customer_data['education'].str.replace('Bachelors', 'Bachelor')\n",
    "customer_data['education'].unique()"
   ]
  },
  {
   "cell_type": "code",
   "execution_count": 508,
   "id": "6ea2d48d",
   "metadata": {},
   "outputs": [
    {
     "data": {
      "text/plain": [
       "array(['Personal Auto', 'Corporate Auto', 'Special Auto', nan],\n",
       "      dtype=object)"
      ]
     },
     "execution_count": 508,
     "metadata": {},
     "output_type": "execute_result"
    }
   ],
   "source": [
    "customer_data.policy_type.unique()"
   ]
  },
  {
   "cell_type": "code",
   "execution_count": 509,
   "id": "f6709d7e",
   "metadata": {},
   "outputs": [
    {
     "data": {
      "text/plain": [
       "array(['Four-Door Car', 'Two-Door Car', 'SUV', 'Luxury SUV', 'Sports Car',\n",
       "       'Luxury Car', nan], dtype=object)"
      ]
     },
     "execution_count": 509,
     "metadata": {},
     "output_type": "execute_result"
    }
   ],
   "source": [
    "customer_data.vehicle_class.unique()"
   ]
  },
  {
   "cell_type": "code",
   "execution_count": 510,
   "id": "204ca367",
   "metadata": {},
   "outputs": [
    {
     "data": {
      "text/plain": [
       "array([nan, '697953.59%', '1288743.17%', ..., 8163.890428, 7524.442436,\n",
       "       2611.836866], dtype=object)"
      ]
     },
     "execution_count": 510,
     "metadata": {},
     "output_type": "execute_result"
    }
   ],
   "source": [
    "customer_data.customer_lifetime_value.unique()"
   ]
  },
  {
   "cell_type": "code",
   "execution_count": 511,
   "id": "f97f29e5",
   "metadata": {},
   "outputs": [
    {
     "data": {
      "text/plain": [
       "array([nan, '697953.59', '1288743.17', ..., '568964.41', '368672.38',\n",
       "       '399258.39'], dtype=object)"
      ]
     },
     "execution_count": 511,
     "metadata": {},
     "output_type": "execute_result"
    }
   ],
   "source": [
    "# In Customer Lifetime Value, delete the `%` character*. Convert to float\n",
    "customer_data['customer_lifetime_value'] = customer_data['customer_lifetime_value'].str.replace('%', '')\n",
    "customer_data['customer_lifetime_value'].unique()"
   ]
  },
  {
   "cell_type": "code",
   "execution_count": 512,
   "id": "636cb794",
   "metadata": {},
   "outputs": [
    {
     "data": {
      "text/plain": [
       "customer                      object\n",
       "state                         object\n",
       "gender                        object\n",
       "education                     object\n",
       "customer_lifetime_value       object\n",
       "income                       float64\n",
       "monthly_premium_auto         float64\n",
       "number_of_open_complaints     object\n",
       "policy_type                   object\n",
       "vehicle_class                 object\n",
       "total_claim_amount           float64\n",
       "dtype: object"
      ]
     },
     "execution_count": 512,
     "metadata": {},
     "output_type": "execute_result"
    }
   ],
   "source": [
    "# Update the data types as appropriate\n",
    "\n",
    "customer_data.dtypes"
   ]
  },
  {
   "cell_type": "code",
   "execution_count": 513,
   "id": "6df6927c",
   "metadata": {},
   "outputs": [],
   "source": [
    "customer_data.customer_lifetime_value = customer_data.customer_lifetime_value.astype(float)"
   ]
  },
  {
   "cell_type": "code",
   "execution_count": 514,
   "id": "13bbb31a",
   "metadata": {},
   "outputs": [
    {
     "data": {
      "text/plain": [
       "array(['1/0/00', '1/2/00', '1/1/00', '1/3/00', '1/5/00', '1/4/00', nan, 0,\n",
       "       2, 3, 1, 5, 4], dtype=object)"
      ]
     },
     "execution_count": 514,
     "metadata": {},
     "output_type": "execute_result"
    }
   ],
   "source": [
    "# check the unique values in 'number_of_open_complaints'\n",
    "\n",
    "customer_data['number_of_open_complaints'].unique()"
   ]
  },
  {
   "cell_type": "code",
   "execution_count": 515,
   "id": "92ad1ea2",
   "metadata": {},
   "outputs": [
    {
     "data": {
      "text/plain": [
       "<bound method Series.unique of 0       0\n",
       "1       0\n",
       "2       0\n",
       "3       0\n",
       "4       0\n",
       "       ..\n",
       "7065    0\n",
       "7066    0\n",
       "7067    3\n",
       "7068    0\n",
       "7069    0\n",
       "Name: number_of_open_complaints, Length: 12074, dtype: int32>"
      ]
     },
     "execution_count": 515,
     "metadata": {},
     "output_type": "execute_result"
    }
   ],
   "source": [
    "# Fix 'number_of_open_complaints'\n",
    "\n",
    "customer_data[\"number_of_open_complaints\"] = customer_data[\"number_of_open_complaints\"].astype(\"str\")\n",
    "\n",
    "def extract_complaints(value):\n",
    "    try:\n",
    "        if isinstance(value, str) and \"/\" in value:\n",
    "            return int(value.split(\"/\")[1])\n",
    "\n",
    "        elif value.isdigit():\n",
    "            return int(value)\n",
    "        \n",
    "        else:\n",
    "            return 0\n",
    "        \n",
    "    except ValueError:\n",
    "        return 0\n",
    "\n",
    "\n",
    "customer_data[\"number_of_open_complaints\"] = customer_data[\"number_of_open_complaints\"].apply(extract_complaints)\n",
    "\n",
    "customer_data[\"number_of_open_complaints\"] = customer_data[\"number_of_open_complaints\"].astype(int)\n",
    "\n",
    "customer_data[\"number_of_open_complaints\"].unique"
   ]
  },
  {
   "cell_type": "code",
   "execution_count": 516,
   "id": "449b55a3",
   "metadata": {},
   "outputs": [
    {
     "data": {
      "text/plain": [
       "customer                      2937\n",
       "state                        11850\n",
       "gender                       11987\n",
       "education                     2937\n",
       "customer_lifetime_value      10014\n",
       "income                        2937\n",
       "monthly_premium_auto          2937\n",
       "number_of_open_complaints        0\n",
       "policy_type                   2937\n",
       "vehicle_class                 2937\n",
       "total_claim_amount            2937\n",
       "dtype: int64"
      ]
     },
     "execution_count": 516,
     "metadata": {},
     "output_type": "execute_result"
    }
   ],
   "source": [
    "# Identify missing values\n",
    "\n",
    "customer_data.isnull().sum()"
   ]
  },
  {
   "cell_type": "code",
   "execution_count": 517,
   "id": "62481469",
   "metadata": {},
   "outputs": [
    {
     "data": {
      "text/plain": [
       "0"
      ]
     },
     "execution_count": 517,
     "metadata": {},
     "output_type": "execute_result"
    }
   ],
   "source": [
    "# Identify missing values in all rows\n",
    "customer_data.isnull().all(axis=1).sum()"
   ]
  },
  {
   "cell_type": "code",
   "execution_count": 518,
   "id": "95385889",
   "metadata": {},
   "outputs": [
    {
     "data": {
      "text/plain": [
       "customer                     0\n",
       "state                        0\n",
       "gender                       0\n",
       "education                    0\n",
       "customer_lifetime_value      0\n",
       "income                       0\n",
       "monthly_premium_auto         0\n",
       "number_of_open_complaints    0\n",
       "policy_type                  0\n",
       "vehicle_class                0\n",
       "total_claim_amount           0\n",
       "dtype: int64"
      ]
     },
     "execution_count": 518,
     "metadata": {},
     "output_type": "execute_result"
    }
   ],
   "source": [
    "# Fill numeric columns with 0\n",
    "numeric_columns = ['customer_lifetime_value', 'income', 'monthly_premium_auto', 'number_of_open_complaints', 'total_claim_amount']\n",
    "customer_data[numeric_columns] = customer_data[numeric_columns].fillna(0)\n",
    "\n",
    "# Fill categorical columns with 'Unespecified'\n",
    "categorical_columns = ['customer', 'state', 'gender', 'education', 'policy_type', 'vehicle_class']\n",
    "customer_data[categorical_columns] = customer_data[categorical_columns].fillna('Unespecified')\n",
    "\n",
    "# Verify that there are no more null values\n",
    "customer_data.isnull().sum()"
   ]
  },
  {
   "cell_type": "code",
   "execution_count": 519,
   "id": "f7bb7a89",
   "metadata": {},
   "outputs": [
    {
     "data": {
      "text/plain": [
       "2943"
      ]
     },
     "execution_count": 519,
     "metadata": {},
     "output_type": "execute_result"
    }
   ],
   "source": [
    "# Identify duplicates\n",
    "\n",
    "customer_data.duplicated().sum()"
   ]
  },
  {
   "cell_type": "code",
   "execution_count": 520,
   "id": "777932e4",
   "metadata": {},
   "outputs": [
    {
     "data": {
      "text/html": [
       "<div>\n",
       "<style scoped>\n",
       "    .dataframe tbody tr th:only-of-type {\n",
       "        vertical-align: middle;\n",
       "    }\n",
       "\n",
       "    .dataframe tbody tr th {\n",
       "        vertical-align: top;\n",
       "    }\n",
       "\n",
       "    .dataframe thead th {\n",
       "        text-align: right;\n",
       "    }\n",
       "</style>\n",
       "<table border=\"1\" class=\"dataframe\">\n",
       "  <thead>\n",
       "    <tr style=\"text-align: right;\">\n",
       "      <th></th>\n",
       "      <th>customer</th>\n",
       "      <th>state</th>\n",
       "      <th>gender</th>\n",
       "      <th>education</th>\n",
       "      <th>customer_lifetime_value</th>\n",
       "      <th>income</th>\n",
       "      <th>monthly_premium_auto</th>\n",
       "      <th>number_of_open_complaints</th>\n",
       "      <th>policy_type</th>\n",
       "      <th>vehicle_class</th>\n",
       "      <th>total_claim_amount</th>\n",
       "    </tr>\n",
       "  </thead>\n",
       "  <tbody>\n",
       "    <tr>\n",
       "      <th>0</th>\n",
       "      <td>RB50392</td>\n",
       "      <td>Unespecified</td>\n",
       "      <td>Unespecified</td>\n",
       "      <td>Master</td>\n",
       "      <td>0.00</td>\n",
       "      <td>0.0</td>\n",
       "      <td>1000.0</td>\n",
       "      <td>0</td>\n",
       "      <td>Personal Auto</td>\n",
       "      <td>Four-Door Car</td>\n",
       "      <td>2.704934</td>\n",
       "    </tr>\n",
       "    <tr>\n",
       "      <th>1</th>\n",
       "      <td>QZ44356</td>\n",
       "      <td>Unespecified</td>\n",
       "      <td>Unespecified</td>\n",
       "      <td>Bachelor</td>\n",
       "      <td>697953.59</td>\n",
       "      <td>0.0</td>\n",
       "      <td>94.0</td>\n",
       "      <td>0</td>\n",
       "      <td>Personal Auto</td>\n",
       "      <td>Four-Door Car</td>\n",
       "      <td>1131.464935</td>\n",
       "    </tr>\n",
       "    <tr>\n",
       "      <th>2</th>\n",
       "      <td>AI49188</td>\n",
       "      <td>Unespecified</td>\n",
       "      <td>Unespecified</td>\n",
       "      <td>Bachelor</td>\n",
       "      <td>1288743.17</td>\n",
       "      <td>48767.0</td>\n",
       "      <td>108.0</td>\n",
       "      <td>0</td>\n",
       "      <td>Personal Auto</td>\n",
       "      <td>Two-Door Car</td>\n",
       "      <td>566.472247</td>\n",
       "    </tr>\n",
       "    <tr>\n",
       "      <th>3</th>\n",
       "      <td>WW63253</td>\n",
       "      <td>Unespecified</td>\n",
       "      <td>Unespecified</td>\n",
       "      <td>Bachelor</td>\n",
       "      <td>764586.18</td>\n",
       "      <td>0.0</td>\n",
       "      <td>106.0</td>\n",
       "      <td>0</td>\n",
       "      <td>Corporate Auto</td>\n",
       "      <td>SUV</td>\n",
       "      <td>529.881344</td>\n",
       "    </tr>\n",
       "    <tr>\n",
       "      <th>4</th>\n",
       "      <td>GA49547</td>\n",
       "      <td>Unespecified</td>\n",
       "      <td>Unespecified</td>\n",
       "      <td>High School or Below</td>\n",
       "      <td>536307.65</td>\n",
       "      <td>36357.0</td>\n",
       "      <td>68.0</td>\n",
       "      <td>0</td>\n",
       "      <td>Personal Auto</td>\n",
       "      <td>Four-Door Car</td>\n",
       "      <td>17.269323</td>\n",
       "    </tr>\n",
       "  </tbody>\n",
       "</table>\n",
       "</div>"
      ],
      "text/plain": [
       "  customer         state        gender             education  \\\n",
       "0  RB50392  Unespecified  Unespecified                Master   \n",
       "1  QZ44356  Unespecified  Unespecified              Bachelor   \n",
       "2  AI49188  Unespecified  Unespecified              Bachelor   \n",
       "3  WW63253  Unespecified  Unespecified              Bachelor   \n",
       "4  GA49547  Unespecified  Unespecified  High School or Below   \n",
       "\n",
       "   customer_lifetime_value   income  monthly_premium_auto  \\\n",
       "0                     0.00      0.0                1000.0   \n",
       "1                697953.59      0.0                  94.0   \n",
       "2               1288743.17  48767.0                 108.0   \n",
       "3                764586.18      0.0                 106.0   \n",
       "4                536307.65  36357.0                  68.0   \n",
       "\n",
       "   number_of_open_complaints     policy_type  vehicle_class  \\\n",
       "0                          0   Personal Auto  Four-Door Car   \n",
       "1                          0   Personal Auto  Four-Door Car   \n",
       "2                          0   Personal Auto   Two-Door Car   \n",
       "3                          0  Corporate Auto            SUV   \n",
       "4                          0   Personal Auto  Four-Door Car   \n",
       "\n",
       "   total_claim_amount  \n",
       "0            2.704934  \n",
       "1         1131.464935  \n",
       "2          566.472247  \n",
       "3          529.881344  \n",
       "4           17.269323  "
      ]
     },
     "metadata": {},
     "output_type": "display_data"
    }
   ],
   "source": [
    "# Drop duplicates and keep the first occurrence\n",
    "\n",
    "customer_data = customer_data.drop_duplicates(keep='first')\n",
    "display(customer_data.head(5))"
   ]
  },
  {
   "cell_type": "code",
   "execution_count": 521,
   "id": "8b1fa2e8",
   "metadata": {},
   "outputs": [
    {
     "data": {
      "text/plain": [
       "0"
      ]
     },
     "execution_count": 521,
     "metadata": {},
     "output_type": "execute_result"
    }
   ],
   "source": [
    "# Reset the index to ensure consistency\n",
    "\n",
    "customer_data.reset_index(drop=True, inplace=True)\n",
    "customer_data.duplicated().sum()"
   ]
  },
  {
   "cell_type": "markdown",
   "id": "31b8a9e7-7db9-4604-991b-ef6771603e57",
   "metadata": {
    "id": "31b8a9e7-7db9-4604-991b-ef6771603e57"
   },
   "source": [
    "# Challenge 2: Structuring Data"
   ]
  },
  {
   "cell_type": "markdown",
   "id": "a877fd6d-7a0c-46d2-9657-f25036e4ca4b",
   "metadata": {
    "id": "a877fd6d-7a0c-46d2-9657-f25036e4ca4b"
   },
   "source": [
    "In this challenge, we will continue to work with customer data from an insurance company, but we will use a dataset with more columns, called marketing_customer_analysis.csv, which can be found at the following link:\n",
    "\n",
    "https://raw.githubusercontent.com/data-bootcamp-v4/data/main/marketing_customer_analysis_clean.csv\n",
    "\n",
    "This dataset contains information such as customer demographics, policy details, vehicle information, and the customer's response to the last marketing campaign. Our goal is to explore and analyze this data by performing data cleaning, formatting, and structuring."
   ]
  },
  {
   "cell_type": "code",
   "execution_count": 522,
   "id": "aa10d9b0-1c27-4d3f-a8e4-db6ab73bfd26",
   "metadata": {
    "id": "aa10d9b0-1c27-4d3f-a8e4-db6ab73bfd26"
   },
   "outputs": [
    {
     "data": {
      "text/plain": [
       "(10910, 27)"
      ]
     },
     "execution_count": 522,
     "metadata": {},
     "output_type": "execute_result"
    }
   ],
   "source": [
    "marketing_customer = pd.read_csv('https://raw.githubusercontent.com/data-bootcamp-v4/data/main/marketing_customer_analysis_clean.csv')\n",
    "marketing_customer.shape"
   ]
  },
  {
   "cell_type": "code",
   "execution_count": 523,
   "id": "508d48b5",
   "metadata": {},
   "outputs": [
    {
     "data": {
      "text/plain": [
       "(20041, 27)"
      ]
     },
     "execution_count": 523,
     "metadata": {},
     "output_type": "execute_result"
    }
   ],
   "source": [
    "# Concat the dataframes\n",
    "\n",
    "marketing_df = pd.concat([customer_data, marketing_customer], axis=0)\n",
    "\n",
    "marketing_df.shape"
   ]
  },
  {
   "cell_type": "code",
   "execution_count": 524,
   "id": "deda0f25",
   "metadata": {},
   "outputs": [
    {
     "data": {
      "text/plain": [
       "Index(['customer', 'state', 'gender', 'education', 'customer_lifetime_value',\n",
       "       'income', 'monthly_premium_auto', 'number_of_open_complaints',\n",
       "       'policy_type', 'vehicle_class', 'total_claim_amount', 'unnamed:_0',\n",
       "       'response', 'coverage', 'effective_to_date', 'employmentstatus',\n",
       "       'location_code', 'marital_status', 'months_since_last_claim',\n",
       "       'months_since_policy_inception', 'number_of_policies', 'policy',\n",
       "       'renew_offer_type', 'sales_channel', 'vehicle_size', 'vehicle_type',\n",
       "       'month'],\n",
       "      dtype='object')"
      ]
     },
     "execution_count": 524,
     "metadata": {},
     "output_type": "execute_result"
    }
   ],
   "source": [
    "marketing_df.columns"
   ]
  },
  {
   "cell_type": "code",
   "execution_count": 525,
   "id": "0867d983",
   "metadata": {},
   "outputs": [
    {
     "name": "stdout",
     "output_type": "stream",
     "text": [
      "<class 'pandas.core.frame.DataFrame'>\n",
      "Index: 20041 entries, 0 to 10909\n",
      "Data columns (total 27 columns):\n",
      " #   Column                         Non-Null Count  Dtype  \n",
      "---  ------                         --------------  -----  \n",
      " 0   customer                       20041 non-null  object \n",
      " 1   state                          20041 non-null  object \n",
      " 2   gender                         20041 non-null  object \n",
      " 3   education                      20041 non-null  object \n",
      " 4   customer_lifetime_value        20041 non-null  float64\n",
      " 5   income                         20041 non-null  float64\n",
      " 6   monthly_premium_auto           20041 non-null  float64\n",
      " 7   number_of_open_complaints      20041 non-null  float64\n",
      " 8   policy_type                    20041 non-null  object \n",
      " 9   vehicle_class                  20041 non-null  object \n",
      " 10  total_claim_amount             20041 non-null  float64\n",
      " 11  unnamed:_0                     10910 non-null  float64\n",
      " 12  response                       10910 non-null  object \n",
      " 13  coverage                       10910 non-null  object \n",
      " 14  effective_to_date              10910 non-null  object \n",
      " 15  employmentstatus               10910 non-null  object \n",
      " 16  location_code                  10910 non-null  object \n",
      " 17  marital_status                 10910 non-null  object \n",
      " 18  months_since_last_claim        10910 non-null  float64\n",
      " 19  months_since_policy_inception  10910 non-null  float64\n",
      " 20  number_of_policies             10910 non-null  float64\n",
      " 21  policy                         10910 non-null  object \n",
      " 22  renew_offer_type               10910 non-null  object \n",
      " 23  sales_channel                  10910 non-null  object \n",
      " 24  vehicle_size                   10910 non-null  object \n",
      " 25  vehicle_type                   10910 non-null  object \n",
      " 26  month                          10910 non-null  float64\n",
      "dtypes: float64(10), object(17)\n",
      "memory usage: 4.3+ MB\n"
     ]
    }
   ],
   "source": [
    "marketing_df.info()"
   ]
  },
  {
   "cell_type": "code",
   "execution_count": 526,
   "id": "89cae478",
   "metadata": {},
   "outputs": [
    {
     "data": {
      "text/plain": [
       "customer                          9135\n",
       "state                                6\n",
       "gender                               3\n",
       "education                            6\n",
       "customer_lifetime_value           9965\n",
       "income                            5694\n",
       "monthly_premium_auto               211\n",
       "number_of_open_complaints            7\n",
       "policy_type                          4\n",
       "vehicle_class                        7\n",
       "total_claim_amount                5107\n",
       "unnamed:_0                       10910\n",
       "response                             2\n",
       "coverage                             3\n",
       "effective_to_date                   59\n",
       "employmentstatus                     5\n",
       "location_code                        3\n",
       "marital_status                       3\n",
       "months_since_last_claim             37\n",
       "months_since_policy_inception      100\n",
       "number_of_policies                   9\n",
       "policy                               9\n",
       "renew_offer_type                     4\n",
       "sales_channel                        4\n",
       "vehicle_size                         3\n",
       "vehicle_type                         1\n",
       "month                                2\n",
       "dtype: int64"
      ]
     },
     "execution_count": 526,
     "metadata": {},
     "output_type": "execute_result"
    }
   ],
   "source": [
    "marketing_df.nunique()"
   ]
  },
  {
   "cell_type": "code",
   "execution_count": 527,
   "id": "053000cb",
   "metadata": {},
   "outputs": [
    {
     "data": {
      "text/plain": [
       "customer                            0\n",
       "state                               0\n",
       "gender                              0\n",
       "education                           0\n",
       "customer_lifetime_value             0\n",
       "income                              0\n",
       "monthly_premium_auto                0\n",
       "number_of_open_complaints           0\n",
       "policy_type                         0\n",
       "vehicle_class                       0\n",
       "total_claim_amount                  0\n",
       "unnamed:_0                       9131\n",
       "response                         9131\n",
       "coverage                         9131\n",
       "effective_to_date                9131\n",
       "employmentstatus                 9131\n",
       "location_code                    9131\n",
       "marital_status                   9131\n",
       "months_since_last_claim          9131\n",
       "months_since_policy_inception    9131\n",
       "number_of_policies               9131\n",
       "policy                           9131\n",
       "renew_offer_type                 9131\n",
       "sales_channel                    9131\n",
       "vehicle_size                     9131\n",
       "vehicle_type                     9131\n",
       "month                            9131\n",
       "dtype: int64"
      ]
     },
     "execution_count": 527,
     "metadata": {},
     "output_type": "execute_result"
    }
   ],
   "source": [
    "# Check for missing values\n",
    "\n",
    "marketing_df.isnull().sum()"
   ]
  },
  {
   "cell_type": "code",
   "execution_count": 528,
   "id": "df37e6c7",
   "metadata": {},
   "outputs": [
    {
     "data": {
      "text/plain": [
       "0        False\n",
       "1        False\n",
       "2        False\n",
       "3        False\n",
       "4        False\n",
       "         ...  \n",
       "10905    False\n",
       "10906    False\n",
       "10907    False\n",
       "10908    False\n",
       "10909    False\n",
       "Length: 20041, dtype: bool"
      ]
     },
     "execution_count": 528,
     "metadata": {},
     "output_type": "execute_result"
    }
   ],
   "source": [
    "# Check for missing values in all rows\n",
    "\n",
    "marketing_df.isnull().all(axis=1)"
   ]
  },
  {
   "cell_type": "code",
   "execution_count": 529,
   "id": "15ea3b5c",
   "metadata": {},
   "outputs": [
    {
     "data": {
      "text/plain": [
       "0"
      ]
     },
     "execution_count": 529,
     "metadata": {},
     "output_type": "execute_result"
    }
   ],
   "source": [
    "# Check for duplicates\n",
    "\n",
    "marketing_df.duplicated().sum()"
   ]
  },
  {
   "cell_type": "code",
   "execution_count": 530,
   "id": "b1beab97",
   "metadata": {},
   "outputs": [
    {
     "data": {
      "text/html": [
       "<div>\n",
       "<style scoped>\n",
       "    .dataframe tbody tr th:only-of-type {\n",
       "        vertical-align: middle;\n",
       "    }\n",
       "\n",
       "    .dataframe tbody tr th {\n",
       "        vertical-align: top;\n",
       "    }\n",
       "\n",
       "    .dataframe thead th {\n",
       "        text-align: right;\n",
       "    }\n",
       "</style>\n",
       "<table border=\"1\" class=\"dataframe\">\n",
       "  <thead>\n",
       "    <tr style=\"text-align: right;\">\n",
       "      <th></th>\n",
       "      <th>customer</th>\n",
       "      <th>state</th>\n",
       "      <th>gender</th>\n",
       "      <th>education</th>\n",
       "      <th>customer_lifetime_value</th>\n",
       "      <th>income</th>\n",
       "      <th>monthly_premium_auto</th>\n",
       "      <th>number_of_open_complaints</th>\n",
       "      <th>policy_type</th>\n",
       "      <th>vehicle_class</th>\n",
       "      <th>...</th>\n",
       "      <th>marital_status</th>\n",
       "      <th>months_since_last_claim</th>\n",
       "      <th>months_since_policy_inception</th>\n",
       "      <th>number_of_policies</th>\n",
       "      <th>policy</th>\n",
       "      <th>renew_offer_type</th>\n",
       "      <th>sales_channel</th>\n",
       "      <th>vehicle_size</th>\n",
       "      <th>vehicle_type</th>\n",
       "      <th>month</th>\n",
       "    </tr>\n",
       "  </thead>\n",
       "  <tbody>\n",
       "    <tr>\n",
       "      <th>6968</th>\n",
       "      <td>SM42781</td>\n",
       "      <td>Unespecified</td>\n",
       "      <td>Unespecified</td>\n",
       "      <td>Bachelor</td>\n",
       "      <td>0.00000</td>\n",
       "      <td>0.0</td>\n",
       "      <td>195.0</td>\n",
       "      <td>1.0</td>\n",
       "      <td>Personal Auto</td>\n",
       "      <td>Luxury SUV</td>\n",
       "      <td>...</td>\n",
       "      <td>NaN</td>\n",
       "      <td>NaN</td>\n",
       "      <td>NaN</td>\n",
       "      <td>NaN</td>\n",
       "      <td>NaN</td>\n",
       "      <td>NaN</td>\n",
       "      <td>NaN</td>\n",
       "      <td>NaN</td>\n",
       "      <td>NaN</td>\n",
       "      <td>NaN</td>\n",
       "    </tr>\n",
       "    <tr>\n",
       "      <th>1384</th>\n",
       "      <td>QA49556</td>\n",
       "      <td>Unespecified</td>\n",
       "      <td>Unespecified</td>\n",
       "      <td>Master</td>\n",
       "      <td>520022.78000</td>\n",
       "      <td>23401.0</td>\n",
       "      <td>66.0</td>\n",
       "      <td>0.0</td>\n",
       "      <td>Personal Auto</td>\n",
       "      <td>Four-Door Car</td>\n",
       "      <td>...</td>\n",
       "      <td>NaN</td>\n",
       "      <td>NaN</td>\n",
       "      <td>NaN</td>\n",
       "      <td>NaN</td>\n",
       "      <td>NaN</td>\n",
       "      <td>NaN</td>\n",
       "      <td>NaN</td>\n",
       "      <td>NaN</td>\n",
       "      <td>NaN</td>\n",
       "      <td>NaN</td>\n",
       "    </tr>\n",
       "    <tr>\n",
       "      <th>5157</th>\n",
       "      <td>UP57305</td>\n",
       "      <td>Unespecified</td>\n",
       "      <td>Unespecified</td>\n",
       "      <td>Bachelor</td>\n",
       "      <td>0.00000</td>\n",
       "      <td>22726.0</td>\n",
       "      <td>65.0</td>\n",
       "      <td>0.0</td>\n",
       "      <td>Personal Auto</td>\n",
       "      <td>Four-Door Car</td>\n",
       "      <td>...</td>\n",
       "      <td>NaN</td>\n",
       "      <td>NaN</td>\n",
       "      <td>NaN</td>\n",
       "      <td>NaN</td>\n",
       "      <td>NaN</td>\n",
       "      <td>NaN</td>\n",
       "      <td>NaN</td>\n",
       "      <td>NaN</td>\n",
       "      <td>NaN</td>\n",
       "      <td>NaN</td>\n",
       "    </tr>\n",
       "    <tr>\n",
       "      <th>6422</th>\n",
       "      <td>HB48518</td>\n",
       "      <td>Unespecified</td>\n",
       "      <td>Unespecified</td>\n",
       "      <td>College</td>\n",
       "      <td>0.00000</td>\n",
       "      <td>31409.0</td>\n",
       "      <td>100.0</td>\n",
       "      <td>0.0</td>\n",
       "      <td>Corporate Auto</td>\n",
       "      <td>SUV</td>\n",
       "      <td>...</td>\n",
       "      <td>NaN</td>\n",
       "      <td>NaN</td>\n",
       "      <td>NaN</td>\n",
       "      <td>NaN</td>\n",
       "      <td>NaN</td>\n",
       "      <td>NaN</td>\n",
       "      <td>NaN</td>\n",
       "      <td>NaN</td>\n",
       "      <td>NaN</td>\n",
       "      <td>NaN</td>\n",
       "    </tr>\n",
       "    <tr>\n",
       "      <th>5608</th>\n",
       "      <td>KL27677</td>\n",
       "      <td>Nevada</td>\n",
       "      <td>F</td>\n",
       "      <td>College</td>\n",
       "      <td>10793.75704</td>\n",
       "      <td>24195.0</td>\n",
       "      <td>90.0</td>\n",
       "      <td>0.0</td>\n",
       "      <td>Personal Auto</td>\n",
       "      <td>Two-Door Car</td>\n",
       "      <td>...</td>\n",
       "      <td>Married</td>\n",
       "      <td>32.0</td>\n",
       "      <td>70.0</td>\n",
       "      <td>2.0</td>\n",
       "      <td>Personal L3</td>\n",
       "      <td>Offer1</td>\n",
       "      <td>Branch</td>\n",
       "      <td>Large</td>\n",
       "      <td>A</td>\n",
       "      <td>1.0</td>\n",
       "    </tr>\n",
       "  </tbody>\n",
       "</table>\n",
       "<p>5 rows × 26 columns</p>\n",
       "</div>"
      ],
      "text/plain": [
       "     customer         state        gender education  customer_lifetime_value  \\\n",
       "6968  SM42781  Unespecified  Unespecified  Bachelor                  0.00000   \n",
       "1384  QA49556  Unespecified  Unespecified    Master             520022.78000   \n",
       "5157  UP57305  Unespecified  Unespecified  Bachelor                  0.00000   \n",
       "6422  HB48518  Unespecified  Unespecified   College                  0.00000   \n",
       "5608  KL27677        Nevada             F   College              10793.75704   \n",
       "\n",
       "       income  monthly_premium_auto  number_of_open_complaints  \\\n",
       "6968      0.0                 195.0                        1.0   \n",
       "1384  23401.0                  66.0                        0.0   \n",
       "5157  22726.0                  65.0                        0.0   \n",
       "6422  31409.0                 100.0                        0.0   \n",
       "5608  24195.0                  90.0                        0.0   \n",
       "\n",
       "         policy_type  vehicle_class  ...  marital_status  \\\n",
       "6968   Personal Auto     Luxury SUV  ...             NaN   \n",
       "1384   Personal Auto  Four-Door Car  ...             NaN   \n",
       "5157   Personal Auto  Four-Door Car  ...             NaN   \n",
       "6422  Corporate Auto            SUV  ...             NaN   \n",
       "5608   Personal Auto   Two-Door Car  ...         Married   \n",
       "\n",
       "     months_since_last_claim months_since_policy_inception number_of_policies  \\\n",
       "6968                     NaN                           NaN                NaN   \n",
       "1384                     NaN                           NaN                NaN   \n",
       "5157                     NaN                           NaN                NaN   \n",
       "6422                     NaN                           NaN                NaN   \n",
       "5608                    32.0                          70.0                2.0   \n",
       "\n",
       "           policy renew_offer_type sales_channel  vehicle_size  vehicle_type  \\\n",
       "6968          NaN              NaN           NaN           NaN           NaN   \n",
       "1384          NaN              NaN           NaN           NaN           NaN   \n",
       "5157          NaN              NaN           NaN           NaN           NaN   \n",
       "6422          NaN              NaN           NaN           NaN           NaN   \n",
       "5608  Personal L3           Offer1        Branch         Large             A   \n",
       "\n",
       "      month  \n",
       "6968    NaN  \n",
       "1384    NaN  \n",
       "5157    NaN  \n",
       "6422    NaN  \n",
       "5608    1.0  \n",
       "\n",
       "[5 rows x 26 columns]"
      ]
     },
     "metadata": {},
     "output_type": "display_data"
    }
   ],
   "source": [
    "# Drop unnecessary columns\n",
    "\n",
    "marketing_df = marketing_df.drop(['unnamed:_0'], axis=1)\n",
    "display(marketing_df.sample(5))\n"
   ]
  },
  {
   "cell_type": "code",
   "execution_count": 531,
   "id": "f7091255",
   "metadata": {},
   "outputs": [
    {
     "data": {
      "text/plain": [
       "customer                          object\n",
       "state                             object\n",
       "gender                            object\n",
       "education                         object\n",
       "customer_lifetime_value          float64\n",
       "income                           float64\n",
       "monthly_premium_auto             float64\n",
       "number_of_open_complaints        float64\n",
       "policy_type                       object\n",
       "vehicle_class                     object\n",
       "total_claim_amount               float64\n",
       "response                          object\n",
       "coverage                          object\n",
       "effective_to_date                 object\n",
       "employmentstatus                  object\n",
       "location_code                     object\n",
       "marital_status                    object\n",
       "months_since_last_claim          float64\n",
       "months_since_policy_inception    float64\n",
       "number_of_policies               float64\n",
       "policy                            object\n",
       "renew_offer_type                  object\n",
       "sales_channel                     object\n",
       "vehicle_size                      object\n",
       "vehicle_type                      object\n",
       "month                            float64\n",
       "dtype: object"
      ]
     },
     "execution_count": 531,
     "metadata": {},
     "output_type": "execute_result"
    }
   ],
   "source": [
    "# Check for types of columns\n",
    "\n",
    "marketing_df.dtypes"
   ]
  },
  {
   "cell_type": "markdown",
   "id": "df35fd0d-513e-4e77-867e-429da10a9cc7",
   "metadata": {
    "id": "df35fd0d-513e-4e77-867e-429da10a9cc7"
   },
   "source": [
    "1. You work at the marketing department and you want to know which sales channel brought the most sales in terms of total revenue. Using pivot, create a summary table showing the total revenue for each sales channel (branch, call center, web, and mail).\n",
    "Round the total revenue to 2 decimal points.  Analyze the resulting table to draw insights."
   ]
  },
  {
   "cell_type": "code",
   "execution_count": 538,
   "id": "04a50c0c",
   "metadata": {},
   "outputs": [
    {
     "data": {
      "text/plain": [
       "array([nan, 'Agent', 'Call Center', 'Branch', 'Web'], dtype=object)"
      ]
     },
     "execution_count": 538,
     "metadata": {},
     "output_type": "execute_result"
    }
   ],
   "source": [
    "marketing_df.sales_channel.unique()"
   ]
  },
  {
   "cell_type": "code",
   "execution_count": 536,
   "id": "54844c38",
   "metadata": {},
   "outputs": [
    {
     "data": {
      "text/html": [
       "<div>\n",
       "<style scoped>\n",
       "    .dataframe tbody tr th:only-of-type {\n",
       "        vertical-align: middle;\n",
       "    }\n",
       "\n",
       "    .dataframe tbody tr th {\n",
       "        vertical-align: top;\n",
       "    }\n",
       "\n",
       "    .dataframe thead th {\n",
       "        text-align: right;\n",
       "    }\n",
       "</style>\n",
       "<table border=\"1\" class=\"dataframe\">\n",
       "  <thead>\n",
       "    <tr style=\"text-align: right;\">\n",
       "      <th></th>\n",
       "      <th>total_claim_amount</th>\n",
       "    </tr>\n",
       "    <tr>\n",
       "      <th>sales_channel</th>\n",
       "      <th></th>\n",
       "    </tr>\n",
       "  </thead>\n",
       "  <tbody>\n",
       "    <tr>\n",
       "      <th>Agent</th>\n",
       "      <td>1810226.82</td>\n",
       "    </tr>\n",
       "    <tr>\n",
       "      <th>Branch</th>\n",
       "      <td>1301204.00</td>\n",
       "    </tr>\n",
       "    <tr>\n",
       "      <th>Call Center</th>\n",
       "      <td>926600.82</td>\n",
       "    </tr>\n",
       "    <tr>\n",
       "      <th>Web</th>\n",
       "      <td>706600.04</td>\n",
       "    </tr>\n",
       "  </tbody>\n",
       "</table>\n",
       "</div>"
      ],
      "text/plain": [
       "               total_claim_amount\n",
       "sales_channel                    \n",
       "Agent                  1810226.82\n",
       "Branch                 1301204.00\n",
       "Call Center             926600.82\n",
       "Web                     706600.04"
      ]
     },
     "execution_count": 536,
     "metadata": {},
     "output_type": "execute_result"
    }
   ],
   "source": [
    "# Create the pivot table\n",
    "revenue_summary = marketing_df.pivot_table(\n",
    "    index='sales_channel',            # Rows: Sales Channel\n",
    "    values='total_claim_amount',       # Values: Total Revenue\n",
    "    aggfunc='sum',                     # Aggregation function: Sum of revenue\n",
    "    fill_value=0                       # Replace NaN with 0 if there are any missing values\n",
    ").round(2)                            # Round the total revenue to 2\n",
    "\n",
    "revenue_summary"
   ]
  },
  {
   "cell_type": "markdown",
   "id": "2062c59d",
   "metadata": {},
   "source": [
    "Agents generated the highest total revenue. The worst sales channel is the web "
   ]
  },
  {
   "cell_type": "markdown",
   "id": "640993b2-a291-436c-a34d-a551144f8196",
   "metadata": {
    "id": "640993b2-a291-436c-a34d-a551144f8196"
   },
   "source": [
    "2. Create a pivot table that shows the average customer lifetime value per gender and education level. Analyze the resulting table to draw insights."
   ]
  },
  {
   "cell_type": "code",
   "execution_count": 540,
   "id": "67539921",
   "metadata": {},
   "outputs": [
    {
     "data": {
      "text/html": [
       "<div>\n",
       "<style scoped>\n",
       "    .dataframe tbody tr th:only-of-type {\n",
       "        vertical-align: middle;\n",
       "    }\n",
       "\n",
       "    .dataframe tbody tr th {\n",
       "        vertical-align: top;\n",
       "    }\n",
       "\n",
       "    .dataframe thead th {\n",
       "        text-align: right;\n",
       "    }\n",
       "</style>\n",
       "<table border=\"1\" class=\"dataframe\">\n",
       "  <thead>\n",
       "    <tr style=\"text-align: right;\">\n",
       "      <th>education</th>\n",
       "      <th>Bachelor</th>\n",
       "      <th>College</th>\n",
       "      <th>Doctor</th>\n",
       "      <th>High School or Below</th>\n",
       "      <th>Master</th>\n",
       "      <th>Unespecified</th>\n",
       "    </tr>\n",
       "    <tr>\n",
       "      <th>gender</th>\n",
       "      <th></th>\n",
       "      <th></th>\n",
       "      <th></th>\n",
       "      <th></th>\n",
       "      <th></th>\n",
       "      <th></th>\n",
       "    </tr>\n",
       "  </thead>\n",
       "  <tbody>\n",
       "    <tr>\n",
       "      <th>F</th>\n",
       "      <td>14814.48</td>\n",
       "      <td>13886.60</td>\n",
       "      <td>7328.51</td>\n",
       "      <td>13081.05</td>\n",
       "      <td>12055.89</td>\n",
       "      <td>0.0</td>\n",
       "    </tr>\n",
       "    <tr>\n",
       "      <th>M</th>\n",
       "      <td>10481.31</td>\n",
       "      <td>15390.69</td>\n",
       "      <td>16355.05</td>\n",
       "      <td>18028.22</td>\n",
       "      <td>16904.93</td>\n",
       "      <td>0.0</td>\n",
       "    </tr>\n",
       "    <tr>\n",
       "      <th>Unespecified</th>\n",
       "      <td>160510.84</td>\n",
       "      <td>177817.80</td>\n",
       "      <td>174928.94</td>\n",
       "      <td>170470.61</td>\n",
       "      <td>171661.34</td>\n",
       "      <td>0.0</td>\n",
       "    </tr>\n",
       "  </tbody>\n",
       "</table>\n",
       "</div>"
      ],
      "text/plain": [
       "education      Bachelor    College     Doctor  High School or Below  \\\n",
       "gender                                                                \n",
       "F              14814.48   13886.60    7328.51              13081.05   \n",
       "M              10481.31   15390.69   16355.05              18028.22   \n",
       "Unespecified  160510.84  177817.80  174928.94             170470.61   \n",
       "\n",
       "education        Master  Unespecified  \n",
       "gender                                 \n",
       "F              12055.89           0.0  \n",
       "M              16904.93           0.0  \n",
       "Unespecified  171661.34           0.0  "
      ]
     },
     "execution_count": 540,
     "metadata": {},
     "output_type": "execute_result"
    }
   ],
   "source": [
    "# Create a pivot table that shows the average customer lifetime value per gender and education level\n",
    "\n",
    "lifetime_value_summary = marketing_df.pivot_table(\n",
    "    index='gender',                    # Rows: Gender\n",
    "    columns='education',               # Columns: Education\n",
    "    values='customer_lifetime_value', # Values: Customer Lifetime Value\n",
    "    aggfunc='mean',                   # Aggregation function: Mean of customer lifetime value\n",
    "    fill_value=0                      # Replace NaN with 0 if there are any missing values\n",
    "\n",
    ").round(2)\n",
    "\n",
    "\n",
    "lifetime_value_summary"
   ]
  },
  {
   "cell_type": "markdown",
   "id": "2629bfe3",
   "metadata": {},
   "source": [
    "FEMALES\n",
    "    · The highest lifetime value is observed in the bachelor category\n",
    "    . Lowest is in doctor cateegory\n",
    "    That suggest that there are less woman with the doctor´s category\n",
    "MALES\n",
    "    · The highest lifetime value is observed in the high school category\n",
    "    · Lowest is in bachelor category\n",
    "    "
   ]
  },
  {
   "cell_type": "markdown",
   "id": "32c7f2e5-3d90-43e5-be33-9781b6069198",
   "metadata": {
    "id": "32c7f2e5-3d90-43e5-be33-9781b6069198"
   },
   "source": [
    "## Bonus\n",
    "\n",
    "You work at the customer service department and you want to know which months had the highest number of complaints by policy type category. Create a summary table showing the number of complaints by policy type and month.\n",
    "Show it in a long format table."
   ]
  },
  {
   "cell_type": "markdown",
   "id": "e3d09a8f-953c-448a-a5f8-2e5a8cca7291",
   "metadata": {
    "id": "e3d09a8f-953c-448a-a5f8-2e5a8cca7291"
   },
   "source": [
    "*In data analysis, a long format table is a way of structuring data in which each observation or measurement is stored in a separate row of the table. The key characteristic of a long format table is that each column represents a single variable, and each row represents a single observation of that variable.*\n",
    "\n",
    "*More information about long and wide format tables here: https://www.statology.org/long-vs-wide-data/*"
   ]
  },
  {
   "cell_type": "code",
   "execution_count": 532,
   "id": "3a069e0b-b400-470e-904d-d17582191be4",
   "metadata": {
    "id": "3a069e0b-b400-470e-904d-d17582191be4"
   },
   "outputs": [],
   "source": [
    "# Your code goes here"
   ]
  }
 ],
 "metadata": {
  "colab": {
   "provenance": []
  },
  "kernelspec": {
   "display_name": "Python 3 (ipykernel)",
   "language": "python",
   "name": "python3"
  },
  "language_info": {
   "codemirror_mode": {
    "name": "ipython",
    "version": 3
   },
   "file_extension": ".py",
   "mimetype": "text/x-python",
   "name": "python",
   "nbconvert_exporter": "python",
   "pygments_lexer": "ipython3",
   "version": "3.12.4"
  }
 },
 "nbformat": 4,
 "nbformat_minor": 5
}
